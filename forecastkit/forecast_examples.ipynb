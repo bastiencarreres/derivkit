{
 "cells": [
  {
   "cell_type": "code",
   "execution_count": 1,
   "id": "1ecfc2e7-7dd1-4a76-9aad-a5e20268cd94",
   "metadata": {},
   "outputs": [],
   "source": [
    "import numpy as np\n",
    "from forecast_kit import ForecastKit"
   ]
  },
  {
   "cell_type": "code",
   "execution_count": 2,
   "id": "b7b74561-fdef-4bd0-9571-83e3aaa1d6a1",
   "metadata": {},
   "outputs": [],
   "source": [
    "def myf(paramList):\n",
    "    x = paramList[0]\n",
    "    y = paramList[1]\n",
    "    obs1 = x + y\n",
    "    obs2 = x * x + 2 * y * y\n",
    "    obsList = np.array([obs1,obs2])\n",
    "    return obsList"
   ]
  },
  {
   "cell_type": "code",
   "execution_count": 3,
   "id": "57d5f26a-338b-4b8b-91ac-f8489be8d92c",
   "metadata": {},
   "outputs": [],
   "source": [
    "observables = myf\n",
    "fiducial_values = [1, 2]\n",
    "covmat = np.array([[1,0],[0,1]])"
   ]
  },
  {
   "cell_type": "code",
   "execution_count": 4,
   "id": "42e67e50-05f6-4e28-a021-16260773bec8",
   "metadata": {},
   "outputs": [],
   "source": [
    "forecaster = ForecastKit(observables, fiducial_values, covmat)"
   ]
  },
  {
   "cell_type": "code",
   "execution_count": 5,
   "id": "dd5c0fcf-a569-494e-a89c-e65335b41ec5",
   "metadata": {},
   "outputs": [
    {
     "name": "stdout",
     "output_type": "stream",
     "text": [
      "[[1. 2.]\n",
      " [1. 8.]]\n"
     ]
    }
   ],
   "source": [
    "first_order_derivs = forecaster.get_derivatives(derivative_order = 1)\n",
    "print(first_order_derivs)"
   ]
  },
  {
   "cell_type": "code",
   "execution_count": 6,
   "id": "fb944abc-4d41-4bd1-b0d5-a0adf8aecf5b",
   "metadata": {},
   "outputs": [
    {
     "name": "stdout",
     "output_type": "stream",
     "text": [
      "[[[-2.20178468e-10  2.00000000e+00]\n",
      "  [ 9.51801750e-14 -1.66706105e-13]]\n",
      "\n",
      " [[ 6.64571636e-14  1.71211676e-13]\n",
      "  [-1.83482057e-11  4.00000000e+00]]]\n"
     ]
    }
   ],
   "source": [
    "second_order_derivs = forecaster.get_derivatives(derivative_order = 2)\n",
    "print(second_order_derivs)"
   ]
  },
  {
   "cell_type": "code",
   "execution_count": 7,
   "id": "a24f7a93-4c35-4e05-9398-d14ea835d923",
   "metadata": {},
   "outputs": [
    {
     "name": "stdout",
     "output_type": "stream",
     "text": [
      "Fisher matrix: \n",
      "2\n",
      "[[ 5.862025 20.4481  ]\n",
      " [20.4481   78.7924  ]]\n"
     ]
    }
   ],
   "source": [
    "fisher_matrix = forecaster.get_forecast_tensors()\n",
    "print('Fisher matrix: ')\n",
    "print(fisher_matrix.ndim)\n",
    "print(fisher_matrix)"
   ]
  },
  {
   "cell_type": "code",
   "execution_count": 8,
   "id": "f281613b-76a9-402a-be91-dc2975df806d",
   "metadata": {},
   "outputs": [
    {
     "name": "stdout",
     "output_type": "stream",
     "text": [
      "G tensor: \n",
      "3\n",
      "[[[4.63050000e+00 1.85220000e+01]\n",
      "  [2.56711914e-13 1.23466709e-12]]\n",
      "\n",
      " [[1.26917413e-13 6.27630464e-13]\n",
      "  [9.26100000e+00 3.70440000e+01]]]\n",
      "H tensor: \n",
      "4\n",
      "[[[[4.00000000e+00 2.81598151e-13]\n",
      "   [1.44178253e-13 8.00000000e+00]]\n",
      "\n",
      "  [[2.81598151e-13 2.46231483e-26]\n",
      "   [1.29201033e-26 5.63196302e-13]]]\n",
      "\n",
      "\n",
      " [[[1.44178253e-13 1.29201033e-26]\n",
      "   [6.79579734e-27 2.88356506e-13]]\n",
      "\n",
      "  [[8.00000000e+00 5.63196302e-13]\n",
      "   [2.88356506e-13 1.60000000e+01]]]]\n"
     ]
    }
   ],
   "source": [
    "DALI_G, DALI_H = forecaster.get_forecast_tensors(forecast_order = 2)\n",
    "print('G tensor: ')\n",
    "print(DALI_G.ndim)\n",
    "print(DALI_G)\n",
    "print('H tensor: ')\n",
    "print(DALI_H.ndim)\n",
    "print(DALI_H)"
   ]
  },
  {
   "cell_type": "code",
   "execution_count": null,
   "id": "76797b02-f211-4c60-89e1-6282ae2e5920",
   "metadata": {},
   "outputs": [],
   "source": []
  }
 ],
 "metadata": {
  "kernelspec": {
   "display_name": "derivKernel",
   "language": "python",
   "name": "deriv"
  },
  "language_info": {
   "codemirror_mode": {
    "name": "ipython",
    "version": 3
   },
   "file_extension": ".py",
   "mimetype": "text/x-python",
   "name": "python",
   "nbconvert_exporter": "python",
   "pygments_lexer": "ipython3",
   "version": "3.10.18"
  }
 },
 "nbformat": 4,
 "nbformat_minor": 5
}
